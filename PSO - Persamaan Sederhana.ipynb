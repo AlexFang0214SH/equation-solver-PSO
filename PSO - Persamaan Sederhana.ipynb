{
 "cells": [
  {
   "cell_type": "markdown",
   "metadata": {},
   "source": [
    "# Equation Solver with Particle Swarm Optimization"
   ]
  },
  {
   "cell_type": "markdown",
   "metadata": {},
   "source": [
    "## 1. Import module"
   ]
  },
  {
   "cell_type": "code",
   "execution_count": 1,
   "metadata": {},
   "outputs": [],
   "source": [
    "import random\n",
    "import re\n",
    "import operator as operan"
   ]
  },
  {
   "cell_type": "markdown",
   "metadata": {},
   "source": [
    "## 2. Define The Equation"
   ]
  },
  {
   "cell_type": "code",
   "execution_count": 2,
   "metadata": {},
   "outputs": [],
   "source": [
    "equation = 'a+2b-3c+4d=30'"
   ]
  },
  {
   "cell_type": "markdown",
   "metadata": {},
   "source": [
    "## 3. Define Operans"
   ]
  },
  {
   "cell_type": "code",
   "execution_count": 3,
   "metadata": {},
   "outputs": [],
   "source": [
    "ops = { \"+\": operan.add, \n",
    "        \"-\": operan.sub }"
   ]
  },
  {
   "cell_type": "markdown",
   "metadata": {},
   "source": [
    "## 4. Parse Equation (string) to Real Equation"
   ]
  },
  {
   "cell_type": "code",
   "execution_count": 4,
   "metadata": {},
   "outputs": [],
   "source": [
    "def break_equation(equation):\n",
    "  equation_resul = int(equation.split('=')[1])\n",
    "\n",
    "  equation_body = equation.split('=')[0]\n",
    "  equation_split_op = re.split(r'[-+]', equation_body)\n",
    "  number_of_variable = len(equation_split_op)\n",
    "\n",
    "  operator = []\n",
    "  for x in list(equation_body):\n",
    "    if (x == '-' or x == '+'):\n",
    "      operator.append(x)\n",
    "\n",
    "  cons = []\n",
    "  for y in equation_split_op:\n",
    "    if len(list(y)) == 1:\n",
    "      cons.append(1)\n",
    "    else:\n",
    "      cons.append(int(list(y)[0]))\n",
    "  \n",
    "  return cons, operator, equation_resul, number_of_variable"
   ]
  },
  {
   "cell_type": "markdown",
   "metadata": {},
   "source": [
    "## 5. Print Real Equation"
   ]
  },
  {
   "cell_type": "code",
   "execution_count": 5,
   "metadata": {},
   "outputs": [
    {
     "name": "stdout",
     "output_type": "stream",
     "text": [
      "[1, 2, 3, 4]\n",
      "['+', '-', '+']\n",
      "30\n",
      "4\n"
     ]
    }
   ],
   "source": [
    "cons, operator, equation_resul, number_of_variable = break_equation(equation)\n",
    "print(cons)\n",
    "print(operator)\n",
    "print(equation_resul)\n",
    "print(number_of_variable)"
   ]
  },
  {
   "cell_type": "markdown",
   "metadata": {},
   "source": [
    "## 6. Compute Fitness"
   ]
  },
  {
   "cell_type": "code",
   "execution_count": 6,
   "metadata": {},
   "outputs": [],
   "source": [
    "def cal_fitness(var_values):\n",
    "    result = ops[operator[0]]((cons[0]*var_values[0]),(cons[1]*var_values[1]))\n",
    "    for i in range(1, len(operator)):\n",
    "        result = ops[operator[i]](result,(cons[i+1]*var_values[i+1]))\n",
    "\n",
    "    minimasi = abs(equation_resul-result)\n",
    "    \n",
    "    return minimasi;"
   ]
  },
  {
   "cell_type": "markdown",
   "metadata": {},
   "source": [
    "## 7. Particle Class"
   ]
  },
  {
   "cell_type": "code",
   "execution_count": 7,
   "metadata": {},
   "outputs": [],
   "source": [
    "class Particle:\n",
    "    def __init__(self, initial_position):\n",
    "        self.position = initial_position\n",
    "        self.dimensions = len(initial_position)\n",
    "        self.position_of_best = initial_position \n",
    "        self.velocity = [random.uniform(-1,1) for i in range(self.dimensions)]           \n",
    "        self.error_best = float('inf')        \n",
    "        self.error = float('inf')\n",
    "        \n",
    "    def set_pbest(self):\n",
    "        self.error = cal_fitness(self.position)\n",
    "        if self.error < self.error_best or self.error == 0:\n",
    "            self.position_of_best = self.position\n",
    "            self.error_best = self.error_best\n",
    "    \n",
    "    def compute_velocity(self, w, c1, c2, pg):\n",
    "        for i in range(self.dimensions):\n",
    "            r1 = random.random()\n",
    "            r2 = random.random()\n",
    "            \n",
    "            vel_cognitive = c1 * r1 * (self.position_of_best[i]-self.position[i])\n",
    "            vel_social = c2 * r2 * (pg[i]-self.position[i])\n",
    "            self.velocity[i] = w * self.velocity[i] + vel_cognitive + vel_social\n",
    "        \n",
    "    \n",
    "    def compute_position(self, limit):\n",
    "        for i in range(self.dimensions):\n",
    "            self.position[i] = self.position[i] + self.velocity[i]\n",
    "\n",
    "            if self.position[i] > limit[i][1]:\n",
    "                self.position[i] = limit[i][1]\n",
    "\n",
    "            if self.position[i] < limit[i][0]:\n",
    "                self.position[i] = limit[i][0]\n",
    "            "
   ]
  },
  {
   "cell_type": "markdown",
   "metadata": {},
   "source": [
    "## 8. PSO Class"
   ]
  },
  {
   "cell_type": "code",
   "execution_count": 8,
   "metadata": {},
   "outputs": [],
   "source": [
    "class PSO:\n",
    "    def __init__(self, initial_position, num_particles, limit, num_iterations, w, c1, c2):\n",
    "        self.initial_position = initial_position\n",
    "        self.num_particles = num_particles\n",
    "        self.limit = limit\n",
    "        self.num_iterations = num_iterations\n",
    "        self.w = w\n",
    "        self.c1 = c1\n",
    "        self.c2 =c2\n",
    "        self.error_best_of_group = float('inf')\n",
    "        self.position_best_of_group = float('inf')\n",
    "        self.swarm=[]\n",
    "        \n",
    "        for i in range(0,num_particles):\n",
    "            self.swarm.append(Particle(self.initial_position))\n",
    "            \n",
    "    def run(self):\n",
    "        for i in range(self.num_iterations):\n",
    "            for j in range(self.num_particles):\n",
    "                self.swarm[j].set_pbest()\n",
    "                \n",
    "                if self.swarm[j].error < self.error_best_of_group or self.error_best_of_group == 0:\n",
    "                    self.position_best_of_group = list(self.swarm[j].position)\n",
    "                    self.error_best_of_group = float(self.swarm[j].error)\n",
    "                \n",
    "            \n",
    "            for j in range(self.num_particles):\n",
    "                self.swarm[j].compute_velocity(self.w, self.c1, self.c2, self.position_best_of_group)\n",
    "                self.swarm[j].compute_position(self.limit)\n",
    "        \n",
    "        print('Result:')\n",
    "        print('best position of the group: ', end='\\t')\n",
    "        print(self.position_best_of_group)\n",
    "        print('best error of the group: ', end='\\t')\n",
    "        print(self.error_best_of_group)"
   ]
  },
  {
   "cell_type": "markdown",
   "metadata": {},
   "source": [
    "## 9. Example"
   ]
  },
  {
   "cell_type": "code",
   "execution_count": 9,
   "metadata": {},
   "outputs": [
    {
     "name": "stdout",
     "output_type": "stream",
     "text": [
      "Result:\n",
      "best position of the group: \t[5.179874539045136, 6.691227976129891, 4.852695116072358, 6.489129915338282]\n",
      "best error of the group: \t0.03923519555902644\n"
     ]
    }
   ],
   "source": [
    "initial_position = [5  for i in range(number_of_variable)]           \n",
    "limit =[(0,10),(0,10),(0,10),(0,10)] \n",
    "pso = PSO(initial_position=initial_position, num_particles=30, limit = limit, num_iterations=100, w=0.5, c1=1, c2=2)\n",
    "pso.run()"
   ]
  }
 ],
 "metadata": {
  "kernelspec": {
   "display_name": "Python 3",
   "language": "python",
   "name": "python3"
  },
  "language_info": {
   "codemirror_mode": {
    "name": "ipython",
    "version": 3
   },
   "file_extension": ".py",
   "mimetype": "text/x-python",
   "name": "python",
   "nbconvert_exporter": "python",
   "pygments_lexer": "ipython3",
   "version": "3.6.9"
  }
 },
 "nbformat": 4,
 "nbformat_minor": 4
}
